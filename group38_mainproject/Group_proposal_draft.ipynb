{
 "cells": [
  {
   "cell_type": "markdown",
   "id": "65967d4d-960e-4385-85fb-55561cd9de31",
   "metadata": {},
   "source": []
  },
  {
   "cell_type": "code",
   "execution_count": null,
   "id": "e3e70cf3-7c3a-4342-a701-31714ea6d1ea",
   "metadata": {},
   "outputs": [],
   "source": [
    "Every four years, Nations gather the best of their best, the peak athletes. "
   ]
  },
  {
   "cell_type": "markdown",
   "id": "0b3554c4-6baa-466b-a0e6-5ac17bfcdee6",
   "metadata": {
    "tags": []
   },
   "source": [
    "we are predicting age of an athlete based on height, weight, times theyve been to the olympics, number of medals won. For our exploratory plot, we'll show average medals won per olympics vs age of athlete."
   ]
  },
  {
   "cell_type": "code",
   "execution_count": null,
   "id": "d1d8ad09-7890-4c4d-b746-5937dd35addd",
   "metadata": {},
   "outputs": [],
   "source": []
  }
 ],
 "metadata": {
  "kernelspec": {
   "display_name": "R",
   "language": "R",
   "name": "ir"
  },
  "language_info": {
   "codemirror_mode": "r",
   "file_extension": ".r",
   "mimetype": "text/x-r-source",
   "name": "R",
   "pygments_lexer": "r",
   "version": "4.2.2"
  }
 },
 "nbformat": 4,
 "nbformat_minor": 5
}
