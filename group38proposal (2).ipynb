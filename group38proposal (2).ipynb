{
 "cells": [
  {
   "cell_type": "markdown",
   "id": "464bcd6e-ea0b-4943-bb31-7002c03d063b",
   "metadata": {},
   "source": [
    "                                        PREDICTING AGE OF ATHELETES BASED OFF OF OLYMPICS DATA\n",
    "INTRODUCTION\n",
    "\n",
    "Every four years, nations gather the best of their best, their peak athletes to compete in the Summer Olympics, competing in the highest echelon of their respective sports. Maintaining their spot at the top for many years is no easy feat however. As such, we are trying to predict an athlete’s age based on multiple factors. We will try to determine whether factors such as an athlete’s: height, weight, Summer Olympics appearances, and the amount of medals they have won have any correlation to their age. The dataset we will be using has gathered Olympic data for 120 years! From all the way back in 1896, to 2016. It contains the names of athletes and their statistics, such as their height, weight, team, medals won, years they have participated etc. For our purposes however, we will only be using Summer Olympics data as well as all the predictors as listed above. \n",
    "\n",
    "EXPECTED OUTCOMES AND SIGNIFICANCE\n",
    "\n",
    "Through our analysis of the athlete dataset, we expect to find the ages of the athletes based on their height, weight, the number of times they've participated in the Olympics, and the number of medals they've won. With this, there are some new perspectives or debates that are opened up, specifically within the rules and regulations for the Olympics. It also shines some light onto the recognition of age differences/variances in the Olympics, regardless of standings and medals. Our results and observations lead into numerous diverse questions such as: is age an impactful factor for winning medals? Should there be age restrictions or limitations in the Olympics? Does an individual with a greater age, in comparison to a new Olympian, have a advantageous position? Does a greater age imply or directly correlate to greater amounts of medals won, or vise versa? \n",
    "\n",
    "METHODS\n",
    "\n",
    "We are predicting age of an athlete based on the preictors height, weight, times theyve been to the olympics, and number of medals won. For our exploratory plot, we'll show average medals won per olympics vs age of athlete. We will be only using data gained from the Summer Olympics. We will be using line plots as well as scatter plots for our visualizations."
   ]
  },
  {
   "cell_type": "code",
   "execution_count": 1,
   "id": "f0ba3741-49ed-4357-8669-fab1f01d806e",
   "metadata": {
    "tags": []
   },
   "outputs": [
    {
     "name": "stderr",
     "output_type": "stream",
     "text": [
      "── \u001b[1mAttaching packages\u001b[22m ─────────────────────────────────────── tidyverse 1.3.2 ──\n",
      "\u001b[32m✔\u001b[39m \u001b[34mggplot2\u001b[39m 3.4.2     \u001b[32m✔\u001b[39m \u001b[34mpurrr  \u001b[39m 1.0.1\n",
      "\u001b[32m✔\u001b[39m \u001b[34mtibble \u001b[39m 3.2.1     \u001b[32m✔\u001b[39m \u001b[34mdplyr  \u001b[39m 1.1.1\n",
      "\u001b[32m✔\u001b[39m \u001b[34mtidyr  \u001b[39m 1.3.0     \u001b[32m✔\u001b[39m \u001b[34mstringr\u001b[39m 1.5.0\n",
      "\u001b[32m✔\u001b[39m \u001b[34mreadr  \u001b[39m 2.1.3     \u001b[32m✔\u001b[39m \u001b[34mforcats\u001b[39m 0.5.2\n",
      "── \u001b[1mConflicts\u001b[22m ────────────────────────────────────────── tidyverse_conflicts() ──\n",
      "\u001b[31m✖\u001b[39m \u001b[34mdplyr\u001b[39m::\u001b[32mfilter()\u001b[39m masks \u001b[34mstats\u001b[39m::filter()\n",
      "\u001b[31m✖\u001b[39m \u001b[34mdplyr\u001b[39m::\u001b[32mlag()\u001b[39m    masks \u001b[34mstats\u001b[39m::lag()\n",
      "── \u001b[1mAttaching packages\u001b[22m ────────────────────────────────────── tidymodels 1.0.0 ──\n",
      "\n",
      "\u001b[32m✔\u001b[39m \u001b[34mbroom       \u001b[39m 1.0.2     \u001b[32m✔\u001b[39m \u001b[34mrsample     \u001b[39m 1.1.1\n",
      "\u001b[32m✔\u001b[39m \u001b[34mdials       \u001b[39m 1.1.0     \u001b[32m✔\u001b[39m \u001b[34mtune        \u001b[39m 1.0.1\n",
      "\u001b[32m✔\u001b[39m \u001b[34minfer       \u001b[39m 1.0.4     \u001b[32m✔\u001b[39m \u001b[34mworkflows   \u001b[39m 1.1.2\n",
      "\u001b[32m✔\u001b[39m \u001b[34mmodeldata   \u001b[39m 1.0.1     \u001b[32m✔\u001b[39m \u001b[34mworkflowsets\u001b[39m 1.0.0\n",
      "\u001b[32m✔\u001b[39m \u001b[34mparsnip     \u001b[39m 1.0.3     \u001b[32m✔\u001b[39m \u001b[34myardstick   \u001b[39m 1.1.0\n",
      "\u001b[32m✔\u001b[39m \u001b[34mrecipes     \u001b[39m 1.0.4     \n",
      "\n",
      "── \u001b[1mConflicts\u001b[22m ───────────────────────────────────────── tidymodels_conflicts() ──\n",
      "\u001b[31m✖\u001b[39m \u001b[34mscales\u001b[39m::\u001b[32mdiscard()\u001b[39m masks \u001b[34mpurrr\u001b[39m::discard()\n",
      "\u001b[31m✖\u001b[39m \u001b[34mdplyr\u001b[39m::\u001b[32mfilter()\u001b[39m   masks \u001b[34mstats\u001b[39m::filter()\n",
      "\u001b[31m✖\u001b[39m \u001b[34mrecipes\u001b[39m::\u001b[32mfixed()\u001b[39m  masks \u001b[34mstringr\u001b[39m::fixed()\n",
      "\u001b[31m✖\u001b[39m \u001b[34mdplyr\u001b[39m::\u001b[32mlag()\u001b[39m      masks \u001b[34mstats\u001b[39m::lag()\n",
      "\u001b[31m✖\u001b[39m \u001b[34myardstick\u001b[39m::\u001b[32mspec()\u001b[39m masks \u001b[34mreadr\u001b[39m::spec()\n",
      "\u001b[31m✖\u001b[39m \u001b[34mrecipes\u001b[39m::\u001b[32mstep()\u001b[39m   masks \u001b[34mstats\u001b[39m::step()\n",
      "\u001b[34m•\u001b[39m Use suppressPackageStartupMessages() to eliminate package startup messages\n",
      "\n"
     ]
    }
   ],
   "source": [
    "library(tidyverse)\n",
    "library(tidymodels)"
   ]
  },
  {
   "cell_type": "code",
   "execution_count": 2,
   "id": "dcd74a6f-35f8-456f-91ac-21e32d94402b",
   "metadata": {
    "tags": []
   },
   "outputs": [
    {
     "name": "stderr",
     "output_type": "stream",
     "text": [
      "\u001b[1mRows: \u001b[22m\u001b[34m1800\u001b[39m \u001b[1mColumns: \u001b[22m\u001b[34m14\u001b[39m\n",
      "\u001b[36m──\u001b[39m \u001b[1mColumn specification\u001b[22m \u001b[36m────────────────────────────────────────────────────────\u001b[39m\n",
      "\u001b[1mDelimiter:\u001b[22m \",\"\n",
      "\u001b[31mchr\u001b[39m (10): Name, Sex, Team, NOC, Games, Season, City, Sport, Event, Medal\n",
      "\u001b[32mdbl\u001b[39m  (4): Age, Height, Weight, Year\n",
      "\n",
      "\u001b[36mℹ\u001b[39m Use `spec()` to retrieve the full column specification for this data.\n",
      "\u001b[36mℹ\u001b[39m Specify the column types or set `show_col_types = FALSE` to quiet this message.\n"
     ]
    }
   ],
   "source": [
    "athelete<-read_csv(\"https://raw.githubusercontent.com/Mahekbhardwaj/DSCI-100-group38/main/athelete_data.csv\")"
   ]
  },
  {
   "cell_type": "code",
   "execution_count": 3,
   "id": "519c4b71-1350-4758-bf53-b55dd76bf565",
   "metadata": {},
   "outputs": [
    {
     "ename": "ERROR",
     "evalue": "Error in parse(text = x, srcfile = src): <text>:4:0: unexpected end of input\n2: athelete<-\n3: #we see that the data is already in a tidy format\n  ^\n",
     "output_type": "error",
     "traceback": [
      "Error in parse(text = x, srcfile = src): <text>:4:0: unexpected end of input\n2: athelete<-\n3: #we see that the data is already in a tidy format\n  ^\nTraceback:\n"
     ]
    }
   ],
   "source": [
    "head(athelete)\n",
    "athelete<-\n",
    "#we see that the data is already in a tidy format"
   ]
  },
  {
   "cell_type": "code",
   "execution_count": null,
   "id": "30cd392a-decc-4397-b238-66759d1770a9",
   "metadata": {
    "tags": []
   },
   "outputs": [],
   "source": [
    "# we only need data from the most recent summer olympics in the dataset\n",
    "# finding the most recent year \n",
    "recent<- athelete |> select(Year)|>\n",
    "            map_df(max) |> pull()\n",
    "recent"
   ]
  },
  {
   "cell_type": "code",
   "execution_count": null,
   "id": "18805f9b-a3fc-4c42-a83e-b4c68fa1818c",
   "metadata": {
    "tags": []
   },
   "outputs": [],
   "source": [
    "# we know the most recent year is 2016, so now we filter for year==2016 and season==summer\n",
    "athelete<- athelete|>\n",
    "                filter(Year==2016,Season==\"Summer\")\n",
    "head(athelete)"
   ]
  },
  {
   "cell_type": "code",
   "execution_count": null,
   "id": "01a46a9a-dd0a-418e-be54-a8f45180124c",
   "metadata": {
    "tags": []
   },
   "outputs": [],
   "source": [
    "#changing the age column type to factor\n",
    "#splitting into training and testing data\n",
    "mutate(athelete,Age=as_factor(Age))\n",
    "athelete_split <- initial_split(athelete, prop = 0.75, strata = Age)\n",
    "athelete_train <- training(athelete_split)\n",
    "athelete_test <- testing(athelete_split)"
   ]
  },
  {
   "cell_type": "code",
   "execution_count": null,
   "id": "886e9c9f-d488-4331-874d-d502e1c94ebe",
   "metadata": {
    "tags": []
   },
   "outputs": [],
   "source": [
    "#exploratory analysis\n",
    "#finding out the number of times each athelete has attended the olympics, and number of medals won\n",
    "athelete_number<-athelete_train |> group_by(Name) |>\n",
    "                    summarize(n=n()) |>\n",
    "                    rename(\"olympics attended\"=\"n\")\n",
    "                    \n",
    "athelete_number"
   ]
  },
  {
   "cell_type": "code",
   "execution_count": null,
   "id": "d9d2ddc2-9380-4492-9154-005eceecd96b",
   "metadata": {
    "tags": []
   },
   "outputs": [],
   "source": [
    "#number of medals won per athelete\n",
    "#indexing NA and non-NA values in Medal column to 0 and 1 medals won respectively\n",
    "athelete_train$Medal <- ifelse(!is.na(athelete_train$Medal), 1, athelete_train$Medal)\n",
    "athelete_train[[\"Medal\"]][is.na(athelete_train[[\"Medal\"]])]<-0\n",
    "athelete_train"
   ]
  },
  {
   "cell_type": "code",
   "execution_count": null,
   "id": "50395f92-383d-4c1e-8bd9-019baee43455",
   "metadata": {
    "tags": []
   },
   "outputs": [],
   "source": [
    "#exploratory analysis- creating a table to find the number of medals won by each athelete\n",
    "#converting medal col to int type\n",
    "athelete_train$Medal <- as.integer(athelete_train$Medal)\n",
    "athelete_medal<-athelete_train|>\n",
    "                group_by(Medal,Name,Age)|>\n",
    "                summarize(medalcount=n())\n",
    "athelete_medal"
   ]
  },
  {
   "cell_type": "code",
   "execution_count": null,
   "id": "3f877ec6-2db0-4a06-972c-15216008c37f",
   "metadata": {},
   "outputs": [],
   "source": [
    "#exploratory analysis- vizualizing number of medals won against age to see the trend in their relationship.\n",
    "medal_age_plot<-athelete_medal|>\n",
    "                ggplot(aes(y=medalcount,x=Age)) +\n",
    "                geom_point()+ geom_line()+\n",
    "                labs(y=\"number of medals won\",x=\"Age of atheletes\")\n",
    "medal_age_plot"
   ]
  },
  {
   "cell_type": "code",
   "execution_count": null,
   "id": "1dc3c3fa-e477-4026-bebe-aad18a72752e",
   "metadata": {},
   "outputs": [],
   "source": []
  }
 ],
 "metadata": {
  "kernelspec": {
   "display_name": "R",
   "language": "R",
   "name": "ir"
  },
  "language_info": {
   "codemirror_mode": "r",
   "file_extension": ".r",
   "mimetype": "text/x-r-source",
   "name": "R",
   "pygments_lexer": "r",
   "version": "4.2.2"
  }
 },
 "nbformat": 4,
 "nbformat_minor": 5
}
